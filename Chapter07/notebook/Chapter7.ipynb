{
 "cells": [
  {
   "cell_type": "code",
   "execution_count": null,
   "metadata": {
    "collapsed": true
   },
   "outputs": [],
   "source": [
    "val name = \"Dan\"\n",
    "val age = 37\n",
    "show(name + \" is \" + age)"
   ]
  },
  {
   "cell_type": "code",
   "execution_count": null,
   "metadata": {
    "collapsed": true
   },
   "outputs": [],
   "source": [
    "import scala.io.Source;\n",
    "//copied file locally https://archive.ics.uci.edu/ml/machine-learning-databases/iris/iris.data\n",
    "val filename = \"iris.data\"\n",
    "//println(\"SepalLength, SepalWidth, PetalLength, PetalWidth, Class\");\n",
    "val array = scala.collection.mutable.ArrayBuffer.empty[Float]\n",
    "for (line <- Source.fromFile(filename).getLines) {\n",
    "    var cols = line.split(\",\").map(_.trim);\n",
    "    //println(s\"${cols(0)}|${cols(1)}|${cols(2)}|${cols(3)} |${cols(4)}\");\n",
    "    val i = cols(0).toFloat\n",
    "    array += i;\n",
    "}\n",
    "val count = array.length;\n",
    "var min:Double = 9999.0;\n",
    "var max:Double = 0.0;\n",
    "var total:Double = 0.0;\n",
    "for ( x <- array ) {\n",
    "    if (x < min) { min = x; }\n",
    "    if (x > max) { max = x; }\n",
    "    total += x;     \n",
    "}\n",
    "val mean:Double = total / count;"
   ]
  },
  {
   "cell_type": "code",
   "execution_count": null,
   "metadata": {
    "collapsed": true
   },
   "outputs": [],
   "source": [
    "import scala.io.Source;\n",
    "\n",
    "val filename = \"train.csv\"\n",
    "//PassengerId,Survived,Pclass,Name,Sex,Age,SibSp,Parch,Ticket,Fare,Cabin,Embarked\n",
    "//1,0,3,\"Braund, Mr. Owen Harris\",male,22,1,0,A/5 21171,7.25,,S\n",
    "\n",
    "var males = 0\n",
    "var females = 0\n",
    "var males_survived = 0\n",
    "var females_survived = 0\n",
    "for (line <- Source.fromFile(filename).getLines) {\n",
    "    var cols = line.split(\",\").map(_.trim);\n",
    "    var sex = cols(5);\n",
    "    if (sex == \"male\") { \n",
    "        males = males + 1;\n",
    "        if (cols(1).toInt == 1) {\n",
    "            males_survived = males_survived + 1;\n",
    "        }\n",
    "    }\n",
    "    if (sex == \"female\") { \n",
    "        females = females + 1; \n",
    "        if (cols(1).toInt == 1) {\n",
    "            females_survived = females_survived + 1;\n",
    "        }\n",
    "    }    \n",
    "}\n",
    "val mens_survival_rate = males_survived.toFloat/males.toFloat\n",
    "val womens_survival_rate = females_survived.toFloat/females.toFloat"
   ]
  },
  {
   "cell_type": "code",
   "execution_count": null,
   "metadata": {
    "collapsed": true
   },
   "outputs": [],
   "source": [
    "val r = new scala.util.Random\n",
    "r.setSeed(113L)\n",
    "val samples = 1000\n",
    "var dice = new Array[Int](12)\n",
    "for( i <- 1 to samples){\n",
    "    var total = r.nextInt(6) + r.nextInt(6)\n",
    "    dice(total) = dice(total) + 1\n",
    "}\n",
    "val max = dice.reduceLeft(_ max _)\n",
    "for( i <- 0 to 11) {\n",
    "    var str = \"\"\n",
    "    for( j <- 1 to dice(i)/3) {\n",
    "        str = str + \"X\"\n",
    "    }\n",
    "    print(i+1, str, \"\\n\")\n",
    "}\n"
   ]
  },
  {
   "cell_type": "code",
   "execution_count": null,
   "metadata": {
    "collapsed": true
   },
   "outputs": [],
   "source": [
    "\n",
    "var factor = 7\n",
    "val multiplier = (i:Int) => i * factor\n",
    "val a = multiplier(11)\n",
    "val b = multiplier(12)"
   ]
  },
  {
   "cell_type": "code",
   "execution_count": null,
   "metadata": {
    "collapsed": true
   },
   "outputs": [],
   "source": [
    "def squared(x: Int): Int = x * x\n",
    "def cubed(x: Int): Int = x * x * x\n",
    "\n",
    "def process(a: Int, processor: Int => Int): Int = {processor(a) }\n",
    "\n",
    "val fiveSquared = process(5, squared)\n",
    "val sevenCubed = process(7, cubed)"
   ]
  },
  {
   "cell_type": "code",
   "execution_count": null,
   "metadata": {
    "collapsed": true
   },
   "outputs": [],
   "source": [
    "def matchTest(x: Any): Any = x match {\n",
    "  case 7 => \"seven\"\n",
    "  case \"two\" => 2\n",
    "  case _ => \"something\"\n",
    "}\n",
    "val isItTwo = matchTest(\"two\")\n",
    "val isItTest = matchTest(\"test\")\n",
    "val isItSeven = matchTest(7)"
   ]
  },
  {
   "cell_type": "code",
   "execution_count": null,
   "metadata": {
    "collapsed": true
   },
   "outputs": [],
   "source": [
    "//define our case class\n",
    "case class Car(brand: String, model: String)\n",
    "\n",
    "//create an instance\n",
    "val buickLeSabre = Car(\"Buick\", \"LeSabre\")\n",
    "\n",
    "//use the case class to determine type\n",
    "def carType(car: Car) = car match {\n",
    "  case Car(\"Honda\", \"Accord\") => \"sedan\"\n",
    "  case Car(\"GM\", \"Denali\") => \"suv\"\n",
    "  case Car(\"Mercedes\", \"300\") => \"luxury\"\n",
    "  case Car(\"Buick\", \"LeSabre\") => \"sedan\"\n",
    "  case _ => \"Car: is of unknown type\"\n",
    "}\n",
    "\n",
    "//see if we can determine the type of car from the case class\n",
    "val typeOfBuick = carType(buickLeSabre)\n"
   ]
  },
  {
   "cell_type": "code",
   "execution_count": null,
   "metadata": {
    "collapsed": true
   },
   "outputs": [],
   "source": [
    "def calculate (amount: Int): Int = { \n",
    "\tamount = amount + 1;\n",
    "\treturn amount;\n",
    "}\n",
    "\n",
    "var balance = 100\n",
    "val result = calculate(balance)"
   ]
  },
  {
   "cell_type": "code",
   "execution_count": null,
   "metadata": {
    "collapsed": true
   },
   "outputs": [],
   "source": [
    "var mutableList = List(1, 2, 3);\n",
    "var immutableList = scala.collection.immutable.List(4, 5, 6);\n",
    "mutableList.updated(1,400);\n",
    "immutableList.updated(1,700);"
   ]
  },
  {
   "cell_type": "code",
   "execution_count": null,
   "metadata": {
    "collapsed": true
   },
   "outputs": [],
   "source": [
    "def divide(dividend:Int, divisor:Int): Float = \n",
    "{ dividend.toFloat / divisor.toFloat }\n",
    "divide(40, 5)\n",
    "divide(divisor = 5, dividend = 40)"
   ]
  },
  {
   "cell_type": "code",
   "execution_count": null,
   "metadata": {
    "collapsed": true
   },
   "outputs": [],
   "source": [
    "trait Color {\n",
    "    def isRed(): Boolean\n",
    "}\n",
    "class Red extends Color {\n",
    "    def isRed() = true\n",
    "}\n",
    "class Blue extends Color {\n",
    "    def isRed() = false\n",
    "}\n",
    "var red = new Red();\n",
    "var blue = new Blue();\n",
    "red.isRed()\n",
    "blue.isRed()"
   ]
  }
 ],
 "metadata": {
  "kernelspec": {
   "display_name": "Scala",
   "language": "scala",
   "name": "scala"
  },
  "language_info": {
   "codemirror_mode": "text/x-scala",
   "file_extension": ".scala",
   "mimetype": "text/x-scala",
   "name": "scala211",
   "nbconvert_exporter": "script",
   "pygments_lexer": "scala",
   "version": "2.11.11"
  }
 },
 "nbformat": 4,
 "nbformat_minor": 0
}
