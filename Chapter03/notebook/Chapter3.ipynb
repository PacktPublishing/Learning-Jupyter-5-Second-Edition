{
 "cells": [
  {
   "cell_type": "code",
   "execution_count": null,
   "metadata": {},
   "outputs": [],
   "source": [
    "myString <- \"Hello, World!\"\n",
    "print (myString)"
   ]
  },
  {
   "cell_type": "code",
   "execution_count": null,
   "metadata": {},
   "outputs": [],
   "source": [
    "data(iris)\n",
    "summary(iris)\n",
    "plot(iris)\n"
   ]
  },
  {
   "cell_type": "code",
   "execution_count": null,
   "metadata": {},
   "outputs": [],
   "source": [
    "example(persp)"
   ]
  },
  {
   "cell_type": "code",
   "execution_count": null,
   "metadata": {},
   "outputs": [],
   "source": [
    "# make sure lattice package is installed\n",
    "install.packages(\"lattice\")\n",
    "\n",
    "# in a standalone R script you would have a command to download the lattice library \n",
    "# – this is not needed in Jupyter\n",
    "library(\"lattice\")\n",
    "\n",
    "# use the automobile data from ics.edu\n",
    "mydata <- read.table(\"http://archive.ics.uci.edu/ml/machine-learning-databases/auto-mpg/auto-mpg.data\")\n",
    "\n",
    "# define more meaningful column names for the display\n",
    "colnames(mydata) <- c(\"mpg\", \"cylinders\", \"displacement\", \"horsepower\", \"weight\", \"acceleration\", \"model.year\", \"origin\", \"car.name\")\n",
    "\n",
    "# 3-D plot with number of cylinders on x axis, weight of the vehicle on the y axis and\n",
    "# miles per gallon on the z axis.\n",
    "cloud(mpg~cylinders*weight, data=mydata)"
   ]
  },
  {
   "cell_type": "code",
   "execution_count": null,
   "metadata": {},
   "outputs": [],
   "source": [
    "# r cluster analysis\n",
    "\n",
    "# load the wheat data set from uci.edu\n",
    "wheat <- read.csv(\"http://archive.ics.uci.edu/ml/machine-learning-databases/00236/seeds_dataset.txt\", sep=\"\\t\")\n",
    "\n",
    "# define useful column names\n",
    "colnames(wheat) <-c(\"area\", \"perimeter\", \"compactness\", \"length\", \"width\", \"asymmetry\", \"groove\", \"undefined\")\n",
    "\n",
    "# exclude incomplete cases from the data\n",
    "wheat <- wheat[complete.cases(wheat),]\n",
    "\n",
    "# calculate the clusters\n",
    "set.seed(117) #set seed so we can reproduce results\n",
    "fit <- kmeans(wheat, 5)\n",
    "fit"
   ]
  },
  {
   "cell_type": "code",
   "execution_count": null,
   "metadata": {},
   "outputs": [],
   "source": [
    "# r forecasting\n",
    "\n",
    "library(forecast)\n",
    "\n",
    "fraser <- scan(\"fraser.txt\")\n",
    "\n",
    "plot(fraser)\n",
    "\n",
    "fraser.ts <- ts(fraser, frequency=12, start=c(1913,3))\n",
    "\n",
    "fraser.stl = stl(fraser.ts, s.window=\"periodic\")\n",
    "\n",
    "monthplot(fraser.stl)\n",
    "seasonplot(fraser.ts)"
   ]
  },
  {
   "cell_type": "code",
   "execution_count": null,
   "metadata": {},
   "outputs": [],
   "source": [
    "# r machine learning\n",
    "\n",
    "housing <- read.table(\"http://archive.ics.uci.edu/ml/machine-learning-databases/housing/housing.data\")\n",
    "colnames(housing) <- c(\"CRIM\",\"ZN\",\"INDUS\",\"CHAS\",\"NOX\",\"RM\",\"AGE\",\"DIS\",\"RAD\", \"TAX\", \"PRATIO\",\"B\",\"LSTAT\", \"MDEV\")\n",
    "summary(housing)\n",
    "\n",
    "plot(housing)\n",
    "\n",
    "# order the data by median value\n",
    "housing <- housing[order(housing$MDEV),]\n",
    "\n",
    "#install.packages(\"caret\")\n",
    "library(\"caret\")\n",
    "\n",
    "# set the random seed so we can reproduce results\n",
    "set.seed(311)\n",
    "\n",
    "# take 3/4 of the data for training\n",
    "trainingIndices <- createDataPartition(housing$MDEV, p=0.75, list=FALSE)\n",
    "\n",
    "# split the data\n",
    "housingTraining <- housing[trainingIndices,]\n",
    "housingTesting <- housing[-trainingIndices,]\n",
    "\n",
    "# make sure the paritioning is working\n",
    "nrow(housingTraining)\n",
    "nrow(housingTesting)\n",
    "\n",
    "# create a linear (regression) model\n",
    "linearModel <- lm(MDEV ~ CRIM + ZN + INDUS + CHAS + NOX + RM + AGE + DIS + RAD + TAX + PRATIO + B + LSTAT, data=housingTraining)\n",
    "summary(linearModel)\n",
    "\n",
    "# make predictions using the model and compare with the testing data\n",
    "predicted <- predict(linearModel,newdata=housingTesting)\n",
    "summary(predicted)\n",
    "\n",
    "# get a visual indication of the match\n",
    "plot(predicted, housingTesting$MDEV)\n",
    "abline(lm(predicted ~ housingTesting$MDEV))\n",
    "# use a sum of squares to compare\n",
    "sumOfSquares <- function(x) {\n",
    "    return(sum(x^2))\n",
    "}\n",
    "\n",
    "#make sure it works\n",
    "sumOfSquares(1:5)\n",
    "#test our model\n",
    "diff <- predicted - housingTesting$MDEV\n",
    "sumOfSquares(diff)"
   ]
  }
 ],
 "metadata": {
  "kernelspec": {
   "display_name": "R",
   "language": "R",
   "name": "ir"
  },
  "language_info": {
   "codemirror_mode": "r",
   "file_extension": ".r",
   "mimetype": "text/x-r-source",
   "name": "R",
   "pygments_lexer": "r",
   "version": "3.4.3"
  }
 },
 "nbformat": 4,
 "nbformat_minor": 2
}
