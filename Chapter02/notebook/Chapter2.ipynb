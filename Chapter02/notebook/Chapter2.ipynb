{
 "cells": [
  {
   "cell_type": "code",
   "execution_count": null,
   "metadata": {},
   "outputs": [],
   "source": [
    "name = \"Dan\"\n",
    "age = 37\n",
    "print(name + ' is ' + str(age) + ' years old.')"
   ]
  },
  {
   "cell_type": "code",
   "execution_count": null,
   "metadata": {},
   "outputs": [],
   "source": [
    "# import the datasets package\n",
    "from sklearn import datasets\n",
    "\n",
    "# pull in the iris data\n",
    "iris_dataset = datasets.load_iris()\n",
    "# grab the first two columns of data\n",
    "X = iris_dataset.data[:, :2]\n",
    "\n",
    "# calculate some basic statistics\n",
    "x_count = len(X.flat)\n",
    "x_min = X[:, 0].min() - .5\n",
    "x_max = X[:, 0].max() + .5\n",
    "x_mean = X[:, 0].mean()\n",
    "\n",
    "# display our results\n",
    "x_count, x_min, x_max, x_mean"
   ]
  },
  {
   "cell_type": "code",
   "execution_count": null,
   "metadata": {},
   "outputs": [],
   "source": [
    "# in this example we are just using csv handling, but pandas have much more\n",
    "from pandas import *\n",
    "\n",
    "# load the machine learning training data set\n",
    "training_set = read_csv('train.csv')\n",
    "training_set.head()\n",
    "\n",
    "# split the data by sex\n",
    "male = training_set[training_set.Sex == 'male']\n",
    "female = training_set[training_set.Sex =='female']\n",
    "\n",
    "# calculate survival rates based on sex\n",
    "womens_survival_rate = float(sum(female.Survived))/len(female)\n",
    "mens_survival_rate = float(sum(male.Survived))/len(male)\n",
    "womens_survival_rate, mens_survival_rate\n"
   ]
  },
  {
   "cell_type": "code",
   "execution_count": null,
   "metadata": {},
   "outputs": [],
   "source": [
    "import pandas\n",
    "import matplotlib\n",
    "\n",
    "%matplotlib inline\n",
    "\n",
    "# define our two columns of data\n",
    "baby_name = ['Alice','Charles','Diane','Edward']\n",
    "number_births = [96, 155, 66, 272]\n",
    "\n",
    "# create a dataset from the to sets\n",
    "dataset = list(zip(baby_name,number_births))\n",
    "dataset\n",
    "\n",
    "# create a Python dataframe from the dataset\n",
    "df = pandas.DataFrame(data = dataset, columns=['Name', 'Number'])\n",
    "df\n",
    "\n",
    "# plot the data\n",
    "df['Number'].plot()"
   ]
  },
  {
   "cell_type": "code",
   "execution_count": null,
   "metadata": {},
   "outputs": [],
   "source": [
    "\n",
    "# using pylab statistics and histogram\n",
    "import pylab\n",
    "import random\n",
    "\n",
    "# set random seed so we can reproduce results\n",
    "random.seed(113)\n",
    "samples = 1000\n",
    "\n",
    "# declare our dataset store\n",
    "dice = []\n",
    "\n",
    "# generate and save the samples\n",
    "for i in range(samples):\n",
    "    total = random.randint(1,6) + random.randint(1,6)\n",
    "    dice.append(total)\n",
    "\n",
    "# compute some statistics on the dice throws\n",
    "print(\"Throw two dice\", samples, \"times.\")\n",
    "print(\"Mean of\", pylab.mean(dice))\n",
    "print(\"Median of\", pylab.median(dice))\n",
    "print(\"Std Dev of\", pylab.std(dice))\n",
    "\n",
    "# display a histogram of the results\n",
    "pylab.hist(dice, bins= pylab.arange(1.5,12.6,1.0))\n",
    "pylab.xlabel(\"Pips\")\n",
    "pylab.ylabel(\"Count\")\n",
    "pylab.show()\n"
   ]
  }
 ],
 "metadata": {
  "kernelspec": {
   "display_name": "Python 2",
   "language": "python",
   "name": "python2"
  },
  "language_info": {
   "codemirror_mode": {
    "name": "ipython",
    "version": 2
   },
   "file_extension": ".py",
   "mimetype": "text/x-python",
   "name": "python",
   "nbconvert_exporter": "python",
   "pygments_lexer": "ipython2",
   "version": "2.7.15"
  }
 },
 "nbformat": 4,
 "nbformat_minor": 2
}
